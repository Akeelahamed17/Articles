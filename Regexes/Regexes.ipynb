{
 "cells": [
  {
   "cell_type": "markdown",
   "metadata": {},
   "source": [
    "# Raw Strings "
   ]
  },
  {
   "cell_type": "code",
   "execution_count": 1,
   "metadata": {},
   "outputs": [
    {
     "name": "stdout",
     "output_type": "stream",
     "text": [
      "string1 C:\\desktop\n",
      "atalie\n",
      "\n",
      "\n",
      "string2 C:\\desktop\\natalie\n"
     ]
    }
   ],
   "source": [
    "# Difference between raw strings and normal strings\n",
    "print(\"string1\",\"C:\\desktop\\natalie\") # normal string\n",
    "print(\"\\n\")\n",
    "print(\"string2\",r\"C:\\desktop\\natalie\")"
   ]
  },
  {
   "cell_type": "markdown",
   "metadata": {},
   "source": [
    "# re.match() "
   ]
  },
  {
   "cell_type": "code",
   "execution_count": 3,
   "metadata": {},
   "outputs": [
    {
     "name": "stdout",
     "output_type": "stream",
     "text": [
      "<re.Match object; span=(0, 12), match='Data Science'>\n",
      "None\n",
      "Data Science\n"
     ]
    }
   ],
   "source": [
    "import re\n",
    "\n",
    "# match a word at the beginning of a string\n",
    "\n",
    "result = re.match('Data Science', r'Data Science is the hottest job of the 21st century.')\n",
    "print(result)\n",
    "\n",
    "result_2 = re.match('hottest', r'Data Science is the hottest job of the 21st century.')\n",
    "print(result_2)"
   ]
  },
  {
   "cell_type": "code",
   "execution_count": 4,
   "metadata": {},
   "outputs": [
    {
     "name": "stdout",
     "output_type": "stream",
     "text": [
      "Data Science\n"
     ]
    }
   ],
   "source": [
    "print(result.group())"
   ]
  },
  {
   "cell_type": "markdown",
   "metadata": {},
   "source": [
    "# re.search() "
   ]
  },
  {
   "cell_type": "code",
   "execution_count": 6,
   "metadata": {},
   "outputs": [
    {
     "name": "stdout",
     "output_type": "stream",
     "text": [
      "<re.Match object; span=(10, 17), match='founded'>\n",
      "founded\n"
     ]
    }
   ],
   "source": [
    "result = re.search('founded', r'Elon Musk founded Tesla. He also founded SpaceX.')\n",
    "print(result) # Also returns a match object.\n",
    "print(result.group()) "
   ]
  },
  {
   "cell_type": "markdown",
   "metadata": {},
   "source": [
    "# re.findall() "
   ]
  },
  {
   "cell_type": "code",
   "execution_count": 7,
   "metadata": {
    "scrolled": true
   },
   "outputs": [
    {
     "name": "stdout",
     "output_type": "stream",
     "text": [
      "['founded', 'founded']\n"
     ]
    }
   ],
   "source": [
    "result = re.findall('founded', r'Elon Musk founded Tesla. He also founded SpaceX.')\n",
    "print(result) "
   ]
  },
  {
   "cell_type": "code",
   "execution_count": 4,
   "metadata": {
    "scrolled": true
   },
   "outputs": [
    {
     "data": {
      "text/plain": [
       "['415-555-9999', '212-555-0000']"
      ]
     },
     "execution_count": 4,
     "metadata": {},
     "output_type": "execute_result"
    }
   ],
   "source": [
    "import re\n",
    "pattern = r'\\d\\d\\d-\\d\\d\\d-\\d\\d\\d\\d'\n",
    "string = 'Cell: 415-555-9999 Work: 212-555-0000'\n",
    "re.findall(pattern,string)"
   ]
  },
  {
   "cell_type": "code",
   "execution_count": 5,
   "metadata": {},
   "outputs": [
    {
     "data": {
      "text/plain": [
       "['a', 'a', 'b', 'a', 'b', 'c']"
      ]
     },
     "execution_count": 5,
     "metadata": {},
     "output_type": "execute_result"
    }
   ],
   "source": [
    "re.findall(r'[abc]','a ab abc de')"
   ]
  },
  {
   "cell_type": "code",
   "execution_count": null,
   "metadata": {},
   "outputs": [],
   "source": []
  },
  {
   "cell_type": "markdown",
   "metadata": {},
   "source": [
    "# regex Summary "
   ]
  },
  {
   "cell_type": "code",
   "execution_count": 1,
   "metadata": {},
   "outputs": [
    {
     "data": {
      "text/plain": [
       "<re.Match object; span=(6, 18), match='415-555-9999'>"
      ]
     },
     "execution_count": 1,
     "metadata": {},
     "output_type": "execute_result"
    }
   ],
   "source": [
    "# Import the regex module\n",
    "import re\n",
    "# Create a regex object with re.compile() \n",
    "phoneRegex = re.compile(r'\\d\\d\\d-\\d\\d\\d-\\d\\d\\d\\d')\n",
    "# Pass the string to be searched into the search method  \n",
    "match_object = phoneRegex.search('Cell: 415-555-9999 Work: 212-555-0000')\n",
    "match_object"
   ]
  },
  {
   "cell_type": "code",
   "execution_count": 3,
   "metadata": {},
   "outputs": [
    {
     "data": {
      "text/plain": [
       "'415-555-9999'"
      ]
     },
     "execution_count": 3,
     "metadata": {},
     "output_type": "execute_result"
    }
   ],
   "source": [
    "# Call the match object's group() method to return a string of the matched text\n",
    "match_object.group()"
   ]
  },
  {
   "cell_type": "code",
   "execution_count": 6,
   "metadata": {},
   "outputs": [
    {
     "data": {
      "text/plain": [
       "<re.Match object; span=(13, 25), match='415-555-4242'>"
      ]
     },
     "execution_count": 6,
     "metadata": {},
     "output_type": "execute_result"
    }
   ],
   "source": [
    "phoneNumRegex = re.compile(r'(\\d\\d\\d)-(\\d\\d\\d-\\d\\d\\d\\d)')\n",
    "mo = phoneNumRegex.search('My number is 415-555-4242.')\n",
    "mo"
   ]
  },
  {
   "cell_type": "markdown",
   "metadata": {},
   "source": [
    "# Square Brackets "
   ]
  },
  {
   "cell_type": "code",
   "execution_count": 7,
   "metadata": {},
   "outputs": [
    {
     "name": "stdout",
     "output_type": "stream",
     "text": [
      "['b', 'c']\n",
      "['c', 'a', 'a', 'c']\n",
      "[]\n"
     ]
    }
   ],
   "source": [
    "pattern = r'[abc]' # same as [a-c]\n",
    "string1 = 'Abc,xyz,de' # 2 matches \n",
    "string2 = 'car,aec' # 4 matches \n",
    "string3 = 'def' # no match\n",
    "print(re.findall(pattern,string1)) \n",
    "print(re.findall(pattern,string2)) \n",
    "print(re.findall(pattern,string3)) "
   ]
  },
  {
   "cell_type": "markdown",
   "metadata": {},
   "source": [
    "# phone Number program without regex "
   ]
  },
  {
   "cell_type": "code",
   "execution_count": 8,
   "metadata": {
    "scrolled": true
   },
   "outputs": [
    {
     "name": "stdout",
     "output_type": "stream",
     "text": [
      "Phone number found: 132-222-7218\n",
      "Phone number found: 132-222-1111\n"
     ]
    }
   ],
   "source": [
    "# Without using Regular Expressions\n",
    "def isPhoneNumber(text):\n",
    "    if len(text) != 12: # not size of phone number\n",
    "        return False\n",
    "    for i in range(0,3):\n",
    "        if not text[i].isdecimal():\n",
    "            return False # no area code\n",
    "    if text[3] != '-':\n",
    "        return False # missing dash\n",
    "    for i in range(4,7):\n",
    "        if not text[i].isdecimal():\n",
    "            return False # no first 3 digits\n",
    "    if text[7] != '-':\n",
    "        return False # missing dash\n",
    "    for i in range(8,12):\n",
    "        if not text[i].isdecimal():\n",
    "            return False # no last 4 digits\n",
    "    return True\n",
    "\n",
    "message = 'Call me at 132-222-7218, or at 132-222-1111'\n",
    "foundNumber = False\n",
    "for i in range(len(message)):\n",
    "    chunk = message[i:i+12]\n",
    "    if isPhoneNumber(chunk):\n",
    "        print('Phone number found: ' + chunk)\n",
    "        foundNumber = True\n",
    "if not foundNumber:\n",
    "    print('Could not find any phone numbers.')"
   ]
  },
  {
   "cell_type": "markdown",
   "metadata": {},
   "source": [
    "# phone Number program Using Regexes "
   ]
  },
  {
   "cell_type": "code",
   "execution_count": 9,
   "metadata": {
    "scrolled": true
   },
   "outputs": [
    {
     "name": "stdout",
     "output_type": "stream",
     "text": [
      "Phone Number found: 132-222-7218\n",
      "Phone Number found: 132-222-1111\n"
     ]
    }
   ],
   "source": [
    "# Using Regular Expressions\n",
    "a = re.findall(r'\\d{3}-\\d{3}-\\d{4}', 'Call me at 132-222-7218, or at 132-222-1111')\n",
    "for i in range(len(a)):\n",
    "    print('Phone Number found: '+ a[i])"
   ]
  },
  {
   "cell_type": "markdown",
   "metadata": {},
   "source": [
    "# Period"
   ]
  },
  {
   "cell_type": "code",
   "execution_count": 45,
   "metadata": {},
   "outputs": [
    {
     "name": "stdout",
     "output_type": "stream",
     "text": [
      "['zs', 'as', 'es']\n",
      "['&s', '2s', ':s']\n",
      "['-s']\n"
     ]
    }
   ],
   "source": [
    "pattern = r'.s' # match string containing any character followed by 's'\n",
    "string1 = 'zs,as,es' # 3 matches\n",
    "string2 = '&s,42sc,:s' # 3 matches \n",
    "string3 = '-s' # 1 match\n",
    "print(re.findall(pattern,string1)) \n",
    "print(re.findall(pattern,string2)) \n",
    "print(re.findall(pattern,string3)) "
   ]
  },
  {
   "cell_type": "markdown",
   "metadata": {},
   "source": [
    "# Caret"
   ]
  },
  {
   "cell_type": "code",
   "execution_count": 10,
   "metadata": {},
   "outputs": [
    {
     "name": "stdout",
     "output_type": "stream",
     "text": [
      "[]\n",
      "[]\n",
      "['B']\n"
     ]
    }
   ],
   "source": [
    "pattern = r'^B' # match any string that starts with 'A'\n",
    "string1 = 'basketball' # no match\n",
    "string2 = 'boB' # no match \n",
    "string3 = 'Bat' # 1 match\n",
    "print(re.findall(pattern,string1)) \n",
    "print(re.findall(pattern,string2)) \n",
    "print(re.findall(pattern,string3)) "
   ]
  },
  {
   "cell_type": "markdown",
   "metadata": {},
   "source": [
    "# Dollar"
   ]
  },
  {
   "cell_type": "code",
   "execution_count": 12,
   "metadata": {},
   "outputs": [
    {
     "name": "stdout",
     "output_type": "stream",
     "text": [
      "['ing']\n",
      "[]\n"
     ]
    }
   ],
   "source": [
    "pattern = r'ing$' # match any string that ends with 'ing'\n",
    "string1 = 'Joking' # 1 match\n",
    "string2 = 'CALLING' # no match \n",
    "print(re.findall(pattern,string1)) \n",
    "print(re.findall(pattern,string2)) "
   ]
  },
  {
   "cell_type": "markdown",
   "metadata": {},
   "source": [
    "# Question Mark"
   ]
  },
  {
   "cell_type": "code",
   "execution_count": 15,
   "metadata": {},
   "outputs": [
    {
     "name": "stdout",
     "output_type": "stream",
     "text": [
      "['', 'girl', 'woman']\n"
     ]
    }
   ],
   "source": [
    "pattern = r'bat(woman|man|girl)?' # match 0 or 1 instance of 'woman' or 'bat' or 'girl' attached to the word 'bat'\n",
    "string1 = 'Batman, bat, batgirl, batwoman' # 3 matches\n",
    "print(re.findall(pattern,string1)) "
   ]
  },
  {
   "cell_type": "markdown",
   "metadata": {},
   "source": [
    "# Braces"
   ]
  },
  {
   "cell_type": "code",
   "execution_count": 39,
   "metadata": {},
   "outputs": [
    {
     "name": "stdout",
     "output_type": "stream",
     "text": [
      "wowwowwow\n",
      "wowwowwowwowwow\n",
      "[]\n"
     ]
    }
   ],
   "source": [
    "pattern = r'(wow){3,5}' # matches 3 to atmost 5 instances of the word wow\n",
    "wowRegex = re.compile(pattern)\n",
    "\n",
    "# Examples \n",
    "string1 = 'wowwowwow' # match\n",
    "string2 = 'wowwowwowwowwow' # match \n",
    "string3 = \n",
    "string4 = 'wow' # no match\n",
    "\n",
    "mo1 = wowRegex.search(string1)\n",
    "mo2 = wowRegex.search(string2)\n",
    "print(mo1.group()) \n",
    "print(mo2.group())\n",
    "print(re.findall(pattern,string3)) # re.group() would return error here as there is no match"
   ]
  },
  {
   "cell_type": "markdown",
   "metadata": {},
   "source": [
    "# Star"
   ]
  },
  {
   "cell_type": "code",
   "execution_count": 43,
   "metadata": {},
   "outputs": [
    {
     "name": "stdout",
     "output_type": "stream",
     "text": [
      "['data']\n",
      "['daaaaata']\n",
      "['dta']\n"
     ]
    }
   ],
   "source": [
    "pattern = r'da*ta' # match 0 or more occurences of the first 'a' in 'data'\n",
    "string1 = 'data' # match\n",
    "string2 = 'daaaaata' # match \n",
    "string3 = 'dta' # match \n",
    "print(re.findall(pattern,string1)) \n",
    "print(re.findall(pattern,string2)) \n",
    "print(re.findall(pattern,string3)) "
   ]
  },
  {
   "cell_type": "markdown",
   "metadata": {},
   "source": [
    "# Plus"
   ]
  },
  {
   "cell_type": "code",
   "execution_count": 44,
   "metadata": {},
   "outputs": [
    {
     "name": "stdout",
     "output_type": "stream",
     "text": [
      "['data']\n",
      "['daaaaata']\n",
      "[]\n"
     ]
    }
   ],
   "source": [
    "pattern = r'da+ta' # match 1 or more occurences of the first 'a' in 'data'\n",
    "string1 = 'data' # match\n",
    "string2 = 'daaaaata' # match \n",
    "string3 = 'dta' # no match\n",
    "print(re.findall(pattern,string1)) \n",
    "print(re.findall(pattern,string2)) \n",
    "print(re.findall(pattern,string3)) "
   ]
  },
  {
   "cell_type": "markdown",
   "metadata": {},
   "source": [
    "### Extract Grocery list using Regexes"
   ]
  },
  {
   "cell_type": "code",
   "execution_count": 53,
   "metadata": {},
   "outputs": [
    {
     "name": "stdout",
     "output_type": "stream",
     "text": [
      "['3 onions', '1 bread', '1 Milk', '10 bananas', '5 peppers', '12 oranges']\n"
     ]
    }
   ],
   "source": [
    "message = '''I am going to the grocery tomorrow and need to get the following:\n",
    "                3 onions,\n",
    "                1 bread,\n",
    "                1 Milk,\n",
    "                10 bananas,\n",
    "                5 peppers and \n",
    "                12 oranges.'''\n",
    "\n",
    "groceryRegex = re.compile(r'''\\d+ # one or more digits\n",
    "                              \\s  # space character\n",
    "                              \\w+ # one or more words\n",
    "                              ''', re.VERBOSE) # re.VERBOSE can be used to make regexes more readable\n",
    "print(groceryRegex.findall(message))"
   ]
  },
  {
   "cell_type": "markdown",
   "metadata": {},
   "source": [
    "# Re.match "
   ]
  },
  {
   "cell_type": "code",
   "execution_count": 5,
   "metadata": {
    "colab": {
     "base_uri": "https://localhost:8080/",
     "height": 52
    },
    "colab_type": "code",
    "id": "LiXEkNiFsuyl",
    "outputId": "fabb06b0-d45b-4730-ccf8-77ab0ac5a9c2"
   },
   "outputs": [
    {
     "name": "stdout",
     "output_type": "stream",
     "text": [
      "<re.Match object; span=(0, 12), match='Data Science'>\n",
      "None\n"
     ]
    }
   ],
   "source": [
    "import re\n",
    "\n",
    "#match a word at the beginning of a string\n",
    "\n",
    "result = re.match('Data Science',r'Data Science is the hottest job of the 21st century.') \n",
    "print(result)\n",
    "\n",
    "result_2 = re.match('largest',r'Data Science is the hottest job of the 21st century.') \n",
    "print(result_2)"
   ]
  },
  {
   "cell_type": "code",
   "execution_count": 6,
   "metadata": {
    "colab": {
     "base_uri": "https://localhost:8080/",
     "height": 34
    },
    "colab_type": "code",
    "id": "UH1qzis2ebvp",
    "outputId": "8f61d1ce-cd38-41aa-cc0a-58e28cde7fb7"
   },
   "outputs": [
    {
     "name": "stdout",
     "output_type": "stream",
     "text": [
      "Data Science\n"
     ]
    }
   ],
   "source": [
    "print(result.group())  #returns the total matches"
   ]
  },
  {
   "cell_type": "code",
   "execution_count": 1,
   "metadata": {
    "colab": {
     "base_uri": "https://localhost:8080/",
     "height": 52
    },
    "colab_type": "code",
    "id": "LiXEkNiFsuyl",
    "outputId": "fabb06b0-d45b-4730-ccf8-77ab0ac5a9c2"
   },
   "outputs": [
    {
     "name": "stdout",
     "output_type": "stream",
     "text": [
      "<re.Match object; span=(0, 9), match='Analytics'>\n",
      "None\n"
     ]
    }
   ],
   "source": [
    "import re\n",
    "\n",
    "#matches a word at the beginning of a string\n",
    "\n",
    "result = re.match('Analytics',r'Analytics Vidhya is the largest data science community of India') \n",
    "print(result)\n",
    "\n",
    "result_2 = re.match('largest',r'Analytics Vidhya is the largest data science community of India') \n",
    "print(result_2)"
   ]
  },
  {
   "cell_type": "code",
   "execution_count": 5,
   "metadata": {
    "scrolled": true
   },
   "outputs": [
    {
     "name": "stdout",
     "output_type": "stream",
     "text": [
      "founded\n"
     ]
    }
   ],
   "source": [
    "print(result.group())  #returns the total matches"
   ]
  },
  {
   "cell_type": "markdown",
   "metadata": {},
   "source": [
    "# Re.search "
   ]
  },
  {
   "cell_type": "code",
   "execution_count": 7,
   "metadata": {},
   "outputs": [
    {
     "name": "stdout",
     "output_type": "stream",
     "text": [
      "<re.Match object; span=(10, 17), match='founded'>\n",
      "founded\n"
     ]
    }
   ],
   "source": [
    "result = re.search('founded',r'Elon Musk founded Tesla. He also founded SpaceX.')  \n",
    "print(result) # Also returns a match object\n",
    "print(result.group()) # use .group() to return total matches"
   ]
  },
  {
   "cell_type": "markdown",
   "metadata": {},
   "source": [
    "# Re.findall"
   ]
  },
  {
   "cell_type": "code",
   "execution_count": 9,
   "metadata": {},
   "outputs": [
    {
     "name": "stdout",
     "output_type": "stream",
     "text": [
      "['founded', 'founded']\n"
     ]
    }
   ],
   "source": [
    "result = re.findall('founded',r'Elon Musk founded Tesla. He also founded SpaceX.')  \n",
    "print(result)"
   ]
  },
  {
   "cell_type": "code",
   "execution_count": null,
   "metadata": {},
   "outputs": [],
   "source": []
  }
 ],
 "metadata": {
  "kernelspec": {
   "display_name": "Python 3",
   "language": "python",
   "name": "python3"
  },
  "language_info": {
   "codemirror_mode": {
    "name": "ipython",
    "version": 3
   },
   "file_extension": ".py",
   "mimetype": "text/x-python",
   "name": "python",
   "nbconvert_exporter": "python",
   "pygments_lexer": "ipython3",
   "version": "3.7.1"
  }
 },
 "nbformat": 4,
 "nbformat_minor": 2
}
